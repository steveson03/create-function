{
 "cells": [
  {
   "cell_type": "code",
   "execution_count": 1,
   "id": "ceff982b",
   "metadata": {},
   "outputs": [
    {
     "name": "stdout",
     "output_type": "stream",
     "text": [
      "please enter a string: Mississippi\n",
      "Counter({'i': 4, 's': 4, 'p': 2, 'M': 1})\n"
     ]
    }
   ],
   "source": [
    "\n",
    "import collections\n",
    "X = input(\"please enter a string: \")\n",
    "c = collections.Counter(X)\n",
    "print(c)"
   ]
  },
  {
   "cell_type": "code",
   "execution_count": null,
   "id": "b44bb4d1",
   "metadata": {},
   "outputs": [],
   "source": []
  }
 ],
 "metadata": {
  "kernelspec": {
   "display_name": "Python 3 (ipykernel)",
   "language": "python",
   "name": "python3"
  },
  "language_info": {
   "codemirror_mode": {
    "name": "ipython",
    "version": 3
   },
   "file_extension": ".py",
   "mimetype": "text/x-python",
   "name": "python",
   "nbconvert_exporter": "python",
   "pygments_lexer": "ipython3",
   "version": "3.9.6"
  }
 },
 "nbformat": 4,
 "nbformat_minor": 5
}
